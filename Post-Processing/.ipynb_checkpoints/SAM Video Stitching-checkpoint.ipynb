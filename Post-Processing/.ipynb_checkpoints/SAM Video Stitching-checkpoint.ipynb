{
 "cells": [
  {
   "cell_type": "code",
   "execution_count": 13,
   "metadata": {
    "id": "hPeZ-LQG1Qty"
   },
   "outputs": [
    {
     "data": {
      "text/plain": [
       "'8.29.0'"
      ]
     },
     "execution_count": 13,
     "metadata": {},
     "output_type": "execute_result"
    }
   ],
   "source": [
    "import pickle\n",
    "import cv2\n",
    "import sys\n",
    "import os\n",
    "import numpy as np\n",
    "import matplotlib.pyplot as plt\n",
    "from PIL import Image\n",
    "import pickle\n",
    "from tqdm.notebook import tqdm\n",
    "\n",
    "import matplotlib.pyplot as plt\n",
    "import seaborn as sns\n",
    "import pandas as pd\n",
    "\n",
    "import IPython\n",
    "IPython.__version__"
   ]
  },
  {
   "cell_type": "code",
   "execution_count": 5,
   "metadata": {
    "id": "j26RPpdjQjfy"
   },
   "outputs": [],
   "source": [
    "def show_mask(mask, ax, obj_id=None, random_color=False):\n",
    "    if random_color:\n",
    "        color = np.concatenate([np.random.random\n",
    "         (3), np.array([0.6])], axis=0)\n",
    "    else:\n",
    "        cmap = plt.get_cmap(\"tab10\")\n",
    "        cmap_idx = 0 if obj_id is None else obj_id\n",
    "        color = np.array([*cmap(cmap_idx)[:3], 0.6])\n",
    "    h, w = mask.shape[-2:]\n",
    "    mask_image = mask.reshape(h, w, 1) * color.reshape(1, 1, -1)\n",
    "    ax.imshow(mask_image)"
   ]
  },
  {
   "cell_type": "code",
   "execution_count": 5,
   "metadata": {
    "colab": {
     "base_uri": "https://localhost:8080/"
    },
    "id": "OkLbb8ETQsEJ",
    "outputId": "67d9978b-f9ed-4d7c-ecfa-05eadec0a0c9"
   },
   "outputs": [
    {
     "name": "stdout",
     "output_type": "stream",
     "text": [
      "Reading SAM_video_segments_480p_obj11.pkl\n",
      "Reading SAM_video_segments_480p_obj10.pkl\n",
      "Reading SAM_video_segments_480p_obj9.pkl\n",
      "Reading SAM_video_segments_480p_obj8.pkl\n",
      "Reading SAM_video_segments_480p_obj5.pkl\n",
      "Reading SAM_video_segments_480p_obj4.pkl\n",
      "Reading SAM_video_segments_480p_obj6.pkl\n",
      "Reading SAM_video_segments_480p_obj7.pkl\n",
      "Reading SAM_video_segments_480p_obj3.pkl\n",
      "Reading SAM_video_segments_480p_obj2.pkl\n",
      "Reading SAM_video_segments_480p_obj0.pkl\n",
      "Reading SAM_video_segments_480p_obj1.pkl\n"
     ]
    }
   ],
   "source": [
    "# Get all the mask data\n",
    "object_masks = {}\n",
    "for obj_index,pickle_mask in enumerate(os.listdir(\"../SAM_masks\")):\n",
    "    print(\"Reading\", pickle_mask)\n",
    "    if pickle_mask.startswith(\".\"):\n",
    "        continue\n",
    "    with open(f\"../Sam_masks/{pickle_mask}\", \"rb\") as f:\n",
    "        temp = pickle.load(f)\n",
    "        index = list(temp[0].keys())[0]\n",
    "        object_masks[index] = temp\n"
   ]
  },
  {
   "cell_type": "code",
   "execution_count": 7,
   "metadata": {
    "id": "8yIwkjzrRQ1N"
   },
   "outputs": [],
   "source": [
    "# Get Video data\n",
    "def extract_frames(video_path, output_dir = \"../input_video_frames\", max_frames = 1000):\n",
    "    # Check if the output directory exists, if not create it\n",
    "    if not os.path.exists(output_dir):\n",
    "        os.makedirs(output_dir)\n",
    "\n",
    "    # Capture video\n",
    "    video = cv2.VideoCapture(video_path)\n",
    "\n",
    "    # Check if video opened successfully\n",
    "    if not video.isOpened():\n",
    "        print(f\"Error opening video file: {video_path}\")\n",
    "        return\n",
    "\n",
    "    frame_count = 0\n",
    "    while True:\n",
    "        # Read a frame\n",
    "        ret, frame = video.read()\n",
    "\n",
    "        # Break the loop if no more frames\n",
    "        if not ret:\n",
    "            break\n",
    "\n",
    "         # Save the frame as an image file\n",
    "        resized_frame = cv2.resize(frame, (640,480))\n",
    "        frame_path = os.path.join(output_dir, f\"{frame_count:04d}.jpg\")\n",
    "        cv2.imwrite(frame_path, resized_frame)\n",
    "\n",
    "        frame_count += 1\n",
    "\n",
    "        if frame_count > max_frames:\n",
    "            break\n",
    "\n",
    "    # Release the video capture object\n",
    "    video.release()\n",
    "    print(f\"Extracted {frame_count} frames and saved in {output_dir}\")\n",
    "\n",
    "\n",
    "\n",
    "\n",
    "# extract_frames(\"../NBA Game 0021800013.mp4\")"
   ]
  },
  {
   "cell_type": "code",
   "execution_count": 9,
   "metadata": {
    "id": "yA5Y-N4ZRf-g"
   },
   "outputs": [],
   "source": [
    "\"\"\"\n",
    "For every frame -\n",
    "    Get background frame -\n",
    "        for every object\n",
    "            get mask\n",
    "            add to background frame\n",
    "    save frame to directory\n",
    "\n",
    "\"\"\"\n",
    "input_video_dir = \"../input_video_frames\"\n",
    "frame_names = [\n",
    "    p for p in os.listdir(input_video_dir)\n",
    "    if os.path.splitext(p)[-1] in [\".jpg\", \".jpeg\", \".JPG\", \".JPEG\"]\n",
    "]\n",
    "frame_names.sort(key=lambda p: int(os.path.splitext(p)[0]))"
   ]
  },
  {
   "cell_type": "code",
   "execution_count": 11,
   "metadata": {
    "id": "c6VbMT9FUEGX"
   },
   "outputs": [],
   "source": [
    "def create_mask(mask, ax, obj_id=None, random_color=False):\n",
    "    if random_color:\n",
    "        color = np.concatenate([np.random.random(3), np.array([0.6])], axis=0)\n",
    "    else:\n",
    "        cmap = plt.get_cmap(\"tab10\")\n",
    "        cmap_idx = 0 if obj_id is None else obj_id\n",
    "        color = np.array([*cmap(cmap_idx)[:3], 0.6])\n",
    "    h, w = mask.shape[-2:]\n",
    "    mask_image = mask.reshape(h, w, 1) * color.reshape(1, 1, -1)\n",
    "    return mask_image"
   ]
  },
  {
   "cell_type": "code",
   "execution_count": 13,
   "metadata": {
    "colab": {
     "base_uri": "https://localhost:8080/"
    },
    "id": "kqjjLKXoVvZV",
    "outputId": "73286d79-4201-4ad2-b340-6da96bc461e4"
   },
   "outputs": [
    {
     "name": "stdout",
     "output_type": "stream",
     "text": [
      "11 dict_keys([11])\n",
      "10 dict_keys([10])\n",
      "9 dict_keys([9])\n",
      "8 dict_keys([8])\n",
      "5 dict_keys([5])\n",
      "4 dict_keys([4])\n",
      "6 dict_keys([6])\n",
      "7 dict_keys([7])\n",
      "3 dict_keys([3])\n",
      "2 dict_keys([2])\n",
      "0 dict_keys([0])\n",
      "1 dict_keys([1])\n"
     ]
    }
   ],
   "source": [
    "# QC\n",
    "for k,v in object_masks.items():\n",
    "    print(k,v[0].keys())"
   ]
  },
  {
   "cell_type": "code",
   "execution_count": 15,
   "metadata": {
    "id": "dUOr1qdbOt4b"
   },
   "outputs": [],
   "source": [
    "def merge_masks(frame_names,input_video_dir, save_frames=False, output_dir=\"/SAM_output_video_frames_480p_multiple\"):\n",
    "    # Merge masks into one, and add on top of the video\n",
    "\n",
    "    merged_frames = []\n",
    "\n",
    "    for frame_index,frame in tqdm(enumerate(frame_names),total = len(frame_names)):\n",
    "        video_frame = cv2.imread(os.path.join(input_video_dir, frame_names[frame_index]))\n",
    "        h, w = video_frame.shape[:2]\n",
    "\n",
    "        # Create an empty image with the same size and type as the masks (transparent or black)\n",
    "        masks_added_total = np.zeros((h, w, 4), dtype=np.float64)\n",
    "\n",
    "        for object_id, out_mask in object_masks.items():\n",
    "            out_mask = object_masks[object_id][frame_index][object_id]\n",
    "            out_frame_idx = frame_index\n",
    "            image = create_mask(out_mask, plt.gca(), obj_id=object_id)\n",
    "            im = Image.fromarray((image * 255).astype(np.uint8))\n",
    "            # plt.imshow(im, alpha=0.7)\n",
    "\n",
    "            # Blend images\n",
    "            masks_added_total += image.astype(np.float64) #/ len(object_masks)\n",
    "            # masks_added_total = cv2.addWeighted(np.asarray(im), alpha, masks_added_total, beta, 0)\n",
    "\n",
    "\n",
    "        alpha = 0.7  # Weight of the mask image\n",
    "        beta = 1 - alpha  # Weight of the video\n",
    "        video_frame = cv2.imread(os.path.join(input_video_dir, frame_names[frame_index]))\n",
    "        rgb_video_frame = cv2.cvtColor(video_frame, cv2.COLOR_BGR2RGB)\n",
    "        masks_added_total_img = cv2.addWeighted((masks_added_total* 255).astype(np.uint8)[:,:,:3], alpha, rgb_video_frame, beta, 0)\n",
    "        # plt.figure(figsize=(9, 6))\n",
    "        # plt.imshow(masks_added_total_img)\n",
    "\n",
    "        masks_added_total_img = Image.fromarray(masks_added_total_img)\n",
    "        merged_frames.append(masks_added_total_img)\n",
    "        # Save the image\n",
    "        if save_frames:\n",
    "            masks_added_total_img.save(f\"/{output_dir}/{frame_index}.png\")\n",
    "\n",
    "    return merged_frames"
   ]
  },
  {
   "cell_type": "code",
   "execution_count": 17,
   "metadata": {
    "colab": {
     "base_uri": "https://localhost:8080/",
     "height": 467,
     "referenced_widgets": [
      "d7ecefec632a4279a59f5c0252845839",
      "4fb68e099b004efd91fe18f55485cfed",
      "b837c1e555354c57ac24f8345c0b6a2b",
      "04871ac2883f4991b688b1d24f2af4c7",
      "f17b82bd7a2c448489926a9d895cd052",
      "f56cea69772b4db785b7fbb2cf2569bf",
      "edd27251023c44049030ce913d278953",
      "467ae51863e549d899047557eea4db46",
      "add9ee170a3a433a93d6e8bc71716c1c",
      "f5429745e79744d3a1a9ae0cf57914e1",
      "bc638515b3ad4449a701c32265416919"
     ]
    },
    "id": "0008QGWMTFsz",
    "outputId": "6736052a-e07c-4265-c159-1c7e141f73b1"
   },
   "outputs": [
    {
     "data": {
      "application/vnd.jupyter.widget-view+json": {
       "model_id": "6711037fa40d4c2bb8d4cab82c599af9",
       "version_major": 2,
       "version_minor": 0
      },
      "text/plain": [
       "  0%|          | 0/639 [00:00<?, ?it/s]"
      ]
     },
     "metadata": {},
     "output_type": "display_data"
    },
    {
     "data": {
      "image/png": "[encoded data removed]",
      "text/plain": [
       "<Figure size 640x480 with 1 Axes>"
      ]
     },
     "metadata": {},
     "output_type": "display_data"
    }
   ],
   "source": [
    "test = merge_masks(frame_names = frame_names,\n",
    "                   input_video_dir = input_video_dir,\n",
    "                   save_frames=False,\n",
    "                   output_dir = \"\")"
   ]
  },
  {
   "cell_type": "code",
   "execution_count": 7,
   "metadata": {
    "id": "cRGsKqYcqTnf"
   },
   "outputs": [],
   "source": [
    "def stitch_frames_to_video(frames,frames_dir, output_video_path,from_dir=False, fps=60):\n",
    "\n",
    "    if from_dir:\n",
    "        frames = [f for f in os.listdir(frames_dir) if f.endswith(('.png', '.jpg', '.jpeg'))]\n",
    "        frames.sort(key=lambda p: int(os.path.splitext(p)[0]))\n",
    "\n",
    "    if len(frames) == 0:\n",
    "        print(\"No frames found.\")\n",
    "        return\n",
    "\n",
    "    # Read the first frame to get the width and height\n",
    "    if from_dir:\n",
    "        first_frame = cv2.imread(os.path.join(frames_dir, frames[0]))\n",
    "    else:\n",
    "\n",
    "        first_frame = np.asarray(frames[0])\n",
    "    height, width, layers = first_frame.shape\n",
    "\n",
    "    # Find the maximum width and height across all frames\n",
    "    max_width, max_height = 0, 0\n",
    "    for frame_file in frames:\n",
    "        if from_dir:\n",
    "            frame_path = os.path.join(frames_dir, frame_file)\n",
    "            frame = cv2.imread(frame_path)\n",
    "        else:\n",
    "            frame = np.asarray(frame_file)\n",
    "\n",
    "        if frame is None:\n",
    "            print(f\"Error reading frame: {frame_file}\")\n",
    "            continue\n",
    "\n",
    "        h, w = frame.shape[:2]\n",
    "        max_width = max(max_width, w)\n",
    "        max_height = max(max_height, h)\n",
    "\n",
    "    # Define the codec and create a VideoWriter object\n",
    "    fourcc = cv2.VideoWriter_fourcc(*'mp4v')  # You can use 'XVID', 'MJPG', 'X264', etc.\n",
    "    video = cv2.VideoWriter(output_video_path, fourcc, fps, (max_width, max_height))\n",
    "\n",
    "    # Iterate over all frames and write them to the video\n",
    "    for frame_file in tqdm(frames):\n",
    "        if from_dir:\n",
    "            frame_path = os.path.join(frames_dir, frame_file)\n",
    "            frame = cv2.imread(frame_path)\n",
    "        else:\n",
    "            frame = np.asarray(frame_file)\n",
    "\n",
    "        if frame is None:\n",
    "            print(f\"Error reading frame.\")\n",
    "            continue\n",
    "        # Resize back to the original frame size to create a zoom effect\n",
    "        zoomed_frame = cv2.resize(frame, (max_width, max_height))\n",
    "        video.write(zoomed_frame)\n",
    "\n",
    "    # Release the video writer\n",
    "    video.release()\n",
    "    print(f\"Video saved at: {output_video_path}\")\n",
    "\n",
    "# Example usage:\n",
    "# frames_dir = \"/content/drive/MyDrive/SAM_output_video_frames_480p_multiple\"\n",
    "# output_video_path = '/content/drive/MyDrive/SAM_output_video_480p_multiple.mp4'\n",
    "# stitch_frames_to_video(frames_dir, output_video_path, fps=60)"
   ]
  },
  {
   "cell_type": "code",
   "execution_count": 19,
   "metadata": {
    "id": "F3fJL06tP1nn"
   },
   "outputs": [],
   "source": [
    "def blur_maps(frames, iters=1, blur_kernel_size = (11,11), blur_sigma = 15, save_frames=False, output_dir = \"\", get_contours=False):\n",
    "    # Add masks together to create their weighted distribution\n",
    "    blur_kernel_size = blur_kernel_size  # Adjust for larger or smaller influence areas\n",
    "    blur_sigma = blur_sigma  # Sigma controls the spread of the influence\n",
    "    iters = iters\n",
    "\n",
    "    heatmap_frames = []\n",
    "\n",
    "    if get_contours:\n",
    "        contour_dict = {}\n",
    "\n",
    "    for frame_index,frame in tqdm(enumerate(frames), total=len(frames)):\n",
    "        video_frame = cv2.imread(os.path.join(input_video_dir, frame_names[frame_index]))\n",
    "        h, w = video_frame.shape[:2]\n",
    "\n",
    "        # Create an empty image with the same size and type as the masks (transparent or black)\n",
    "        masks_added_total = np.zeros((h, w), dtype=np.float64)\n",
    "\n",
    "        for object_id, out_mask in object_masks.items():\n",
    "            out_mask = object_masks[object_id][frame_index][object_id]\n",
    "            out_frame_idx = frame_index\n",
    "\n",
    "            # Add gaussian blur\n",
    "            # influence_map = cv2.GaussianBlur(out_mask[0].astype('uint8'), blur_kernel_size, blur_sigma)\n",
    "            masks_added_total += out_mask[0].astype('uint8')\n",
    "\n",
    "\n",
    "            # image = create_mask(out_mask, plt.gca(), obj_id=object_id)\n",
    "            # im = Image.fromarray((image * 255).astype(np.uint8))\n",
    "            # plt.imshow(im, alpha=0.7)\n",
    "            # masks_added_total += image.astype(np.float64)\n",
    "        # Normalize\n",
    "        norm_map = cv2.normalize(masks_added_total, None, 0, 255, cv2.NORM_MINMAX)\n",
    "        norm_map = norm_map.astype(np.uint8)\n",
    "\n",
    "        for _ in range(iters):\n",
    "            norm_map = cv2.GaussianBlur(norm_map, blur_kernel_size, blur_sigma)\n",
    "        norm_map_blurred = norm_map\n",
    "\n",
    "        # Apply a heatmap color map\n",
    "        heatmap = cv2.applyColorMap(norm_map_blurred, cv2.COLORMAP_JET)\n",
    "        heatmap = cv2.cvtColor(heatmap, cv2.COLOR_BGR2RGB)\n",
    "        heatmap_img = Image.fromarray(heatmap)\n",
    "\n",
    "\n",
    "        # TODO - ADD MAX AND BOUNDED BOXING TO CHECK RESULTS.\n",
    "\n",
    "\n",
    "\n",
    "        bw_video_frame = cv2.cvtColor(heatmap, cv2.COLOR_BGR2GRAY)\n",
    "        min_val, max_val, min_loc, max_loc = cv2.minMaxLoc(bw_video_frame)\n",
    "\n",
    "        # Draw centre\n",
    "        cv2.drawMarker(heatmap, max_loc, color=(0,0,0), markerType=cv2.MARKER_STAR, markerSize=15, thickness=5)\n",
    "\n",
    "        mean_val, stddev_val = cv2.meanStdDev(bw_video_frame)\n",
    "        threshold = mean_val + 2.5 * stddev_val\n",
    "\n",
    "        _, threshold_mask = cv2.threshold(bw_video_frame, threshold.astype(np.uint8).flatten()[0], 255, cv2.THRESH_BINARY | cv2.THRESH_OTSU)\n",
    "\n",
    "        # Find contours of the thresholded regions to create the bounding box\n",
    "        contours, _ = cv2.findContours(threshold_mask.astype(np.uint8), cv2.RETR_EXTERNAL, cv2.CHAIN_APPROX_SIMPLE)\n",
    "\n",
    "        # Draw a bounding rectangle around the largest contour (region of interest)\n",
    "        if contours:\n",
    "            largest_contour = max(contours, key=cv2.contourArea)\n",
    "            x, y, w_roi, h_roi = cv2.boundingRect(largest_contour)\n",
    "            if get_contours:\n",
    "                contour_dict[frame_index] = largest_contour\n",
    "            # Draw the rectangle on the heatmap\n",
    "            cv2.rectangle(heatmap, (x, y), (x + w_roi, y + h_roi), (0,0,0), 2)\n",
    "\n",
    "        heatmap_img = Image.fromarray(heatmap)\n",
    "\n",
    "        heatmap_frames.append(heatmap_img)\n",
    "        # Save the image\n",
    "        if save_frames:\n",
    "            heatmap_img.save(f\"{output_dir}/{frame_index}.png\")\n",
    "\n",
    "    if get_contours:\n",
    "        return heatmap_frames, contour_dict\n",
    "    return heatmap_frames"
   ]
  },
  {
   "cell_type": "code",
   "execution_count": 20,
   "metadata": {
    "colab": {
     "base_uri": "https://localhost:8080/",
     "height": 49,
     "referenced_widgets": [
      "70e7b60fe2634066b72ba2bc7024b884",
      "e75c8298c6b94a0f9e3f00897f9a9aaf",
      "1cedd7cb921c4c41b75204eec1f2a1a0",
      "a535e0218ab849d687fb8adc0086511c",
      "296371f6fb8c4a83a056bd161f3e930f",
      "3d8fbb08ee374a80be79b7b7e55f1a8c",
      "79e620c4cdb845ae9244c79997c5e593",
      "c29ca30509b64ef0a477ea14c18682fb",
      "34516eaa43b140c98842186e380d9c8d",
      "ec33bd1dbb904bbfa7d28c1af071ea64",
      "65a2a38e1d4649dbbe4b570a6ea68857"
     ]
    },
    "id": "yYTnKZYaBX6E",
    "outputId": "65353649-0bac-4a50-c564-1f3a3127584c"
   },
   "outputs": [
    {
     "data": {
      "application/vnd.jupyter.widget-view+json": {
       "model_id": "88ea3bd3b0d2422bbf0d7aecce0df83f",
       "version_major": 2,
       "version_minor": 0
      },
      "text/plain": [
       "  0%|          | 0/639 [00:00<?, ?it/s]"
      ]
     },
     "metadata": {},
     "output_type": "display_data"
    }
   ],
   "source": [
    "blurred_frames, contours = blur_maps(frames=test, iters=15, blur_kernel_size = (21,21), blur_sigma = 15, save_frames=False, output_dir=\"\", get_contours=True)"
   ]
  },
  {
   "cell_type": "code",
   "execution_count": null,
   "metadata": {
    "id": "bjf1sjQeKwcK"
   },
   "outputs": [],
   "source": []
  },
  {
   "cell_type": "code",
   "execution_count": null,
   "metadata": {},
   "outputs": [],
   "source": []
  },
  {
   "cell_type": "code",
   "execution_count": 45,
   "metadata": {
    "colab": {
     "base_uri": "https://localhost:8080/"
    },
    "id": "txOX-xgEF584",
    "outputId": "59a14d38-f477-4f8c-a30e-76e84a24774c"
   },
   "outputs": [
    {
     "data": {
      "text/plain": [
       "(163, 118)"
      ]
     },
     "execution_count": 45,
     "metadata": {},
     "output_type": "execute_result"
    }
   ],
   "source": [
    "def smooth_pan(start_coords, end_coords, steps):\n",
    "    \"\"\"\n",
    "    Generate a smooth path from start to end coordinates over a specified number of steps.\n",
    "    \"\"\"\n",
    "    x_coords = np.linspace(start_coords[0], end_coords[0], steps)\n",
    "    y_coords = np.linspace(start_coords[1], end_coords[1], steps)\n",
    "    return list(zip(x_coords, y_coords))"
   ]
  },
  {
   "cell_type": "code",
   "execution_count": 75,
   "metadata": {
    "colab": {
     "base_uri": "https://localhost:8080/",
     "height": 67,
     "referenced_widgets": [
      "f3a1360b1da84ca9b006a5e624531f5f",
      "582e667fca79485daa3babc52a46981c",
      "258958d5ff42490787a81d258cd01b25",
      "539cbb77beda4dfb8a173985a049d151",
      "f06b5d892de747d7b6bd233074d2fb54",
      "0137b48945dc46ed99b7505f89a9fcd0",
      "9d1ca2a4216e4fb1937baa8204e79fb9",
      "d5ee8d6d8b104f26a2cd0dc0615cae94",
      "e2388dfaa029409aa8428acbd337a577",
      "fca1fb26d86c4e79bb6ba06b85b185e2",
      "5f6ccc8ed16541018b2e0077ce3eed42"
     ]
    },
    "id": "sVucm-OXCXOS",
    "outputId": "62393e7c-fe4d-46ea-bbc2-98d410fcf7f4"
   },
   "outputs": [
    {
     "data": {
      "application/vnd.jupyter.widget-view+json": {
       "model_id": "f3a1360b1da84ca9b006a5e624531f5f",
       "version_major": 2,
       "version_minor": 0
      },
      "text/plain": [
       "  0%|          | 0/639 [00:00<?, ?it/s]"
      ]
     },
     "metadata": {},
     "output_type": "display_data"
    },
    {
     "name": "stdout",
     "output_type": "stream",
     "text": [
      "Video saved at: /content/drive/MyDrive/cropped_exp3.mp4\n"
     ]
    }
   ],
   "source": [
    "# Crop the image to the bounding box\n",
    "blurred_cropped_video_frames = []\n",
    "width_buffer = []\n",
    "height_buffer = []\n",
    "# Parameters\n",
    "buffer_size = 30\n",
    "threshold = 0.25  # Difference threshold (e.g., 0.1 for 10% deviation)\n",
    "\n",
    "for index,frame in enumerate(test):\n",
    "    x, y, w, h = cv2.boundingRect(contours[index])\n",
    "\n",
    "    # Update buffers\n",
    "    width_buffer.append(w)\n",
    "    height_buffer.append(h)\n",
    "\n",
    "    # Update buffers\n",
    "    width_buffer.append(w)\n",
    "    height_buffer.append(h)\n",
    "\n",
    "    # Ensure buffer does not exceed the specified size\n",
    "    if len(width_buffer) > buffer_size:\n",
    "        width_buffer.pop(0)\n",
    "    if len(height_buffer) > buffer_size:\n",
    "        height_buffer.pop(0)\n",
    "\n",
    "    # Calculate the average width and height from the buffers\n",
    "    avg_width = sum(width_buffer) / len(width_buffer)\n",
    "    avg_height = sum(height_buffer) / len(height_buffer)\n",
    "\n",
    "    # Check if the current frame's dimensions are too different from the averages\n",
    "    width_diff = abs(w - avg_width) / avg_width\n",
    "    height_diff = abs(h - avg_height) / avg_height\n",
    "\n",
    "    if width_diff > threshold or height_diff > threshold:\n",
    "        w = int(avg_width)\n",
    "        h = int(avg_height)\n",
    "\n",
    "\n",
    "\n",
    "    blurred_cropped_video_frames.append(Image.fromarray(np.array(frame)[y:y+h, x:x+w]))\n",
    "\n",
    "output_video_path = '/content/drive/MyDrive/cropped_exp3.mp4'\n",
    "stitch_frames_to_video(blurred_cropped_video_frames, frames_dir=\"\", output_video_path=output_video_path, from_dir=False, fps=60)"
   ]
  },
  {
   "cell_type": "code",
   "execution_count": 71,
   "metadata": {
    "id": "Dd0UyJdcgK5q"
   },
   "outputs": [],
   "source": [
    "dimensions = []\n",
    "# Loop through each image to read dimensions\n",
    "for image in blurred_cropped_video_frames:\n",
    "    dimensions.append({'Smoothened_Height2': image.size[0], 'Smoothened_Width2': image.size[1]})\n",
    "# Convert dimensions to a DataFrame\n",
    "exp_df2 = pd.DataFrame(dimensions)\n",
    "exp_df2[\"Smoothened_Area2\"] = exp_df2['Smoothened_Height2']*exp_df2['Smoothened_Width2']"
   ]
  },
  {
   "cell_type": "code",
   "execution_count": null,
   "metadata": {
    "id": "XItIWyLkiCeP"
   },
   "outputs": [],
   "source": [
    "final_comparison_df = final_comparison_df.join(exp_df2)"
   ]
  },
  {
   "cell_type": "code",
   "execution_count": 74,
   "metadata": {
    "colab": {
     "base_uri": "https://localhost:8080/",
     "height": 596
    },
    "id": "Xnj6v45Sh7HS",
    "outputId": "050e7587-8082-4709-a1a3-cae4079ff223"
   },
   "outputs": [
    {
     "data": {
      "image/png": "[encoded data removed]",
      "text/plain": [
       "<Figure size 1000x600 with 1 Axes>"
      ]
     },
     "metadata": {},
     "output_type": "display_data"
    }
   ],
   "source": [
    "# final_comparison_df = final_comparison_df.join(exp_df2)\n",
    "\n",
    "plt.figure(figsize=(10, 6))\n",
    "# sns.lineplot(data=df, x=df.index, y=\"Height\")\n",
    "sns.set_theme(style=\"whitegrid\", context=\"talk\", palette=\"deep\")\n",
    "sns.lineplot(data=final_comparison_df, x=final_comparison_df.index, y=\"Smoothened_Area\")\n",
    "sns.lineplot(data=final_comparison_df, x=final_comparison_df.index, y=\"Area\")\n",
    "sns.lineplot(data=final_comparison_df, x=final_comparison_df.index, y=\"Smoothened_Area2\")\n",
    "plt.title(\"Image Dimensions\")\n",
    "plt.xlabel(\"Frame\")\n",
    "plt.ylabel(\"Area\")\n",
    "plt.show()"
   ]
  },
  {
   "cell_type": "code",
   "execution_count": 55,
   "metadata": {
    "colab": {
     "base_uri": "https://localhost:8080/",
     "height": 564
    },
    "id": "62m962OuLRF_",
    "outputId": "25e34b05-e645-419f-f695-be9f2cf61156"
   },
   "outputs": [
    {
     "data": {
      "image/png": "[encoded data removed]",
      "text/plain": [
       "<Figure size 1000x600 with 1 Axes>"
      ]
     },
     "metadata": {},
     "output_type": "display_data"
    }
   ],
   "source": [
    "import matplotlib.pyplot as plt\n",
    "import seaborn as sns\n",
    "import pandas as pd\n",
    "dimensions = []\n",
    "# Loop through each image to read dimensions\n",
    "for image in blurred_cropped_video_frames:\n",
    "\n",
    "    dimensions.append({'Height': image.size[0], 'Width': image.size[1]})\n",
    "\n",
    "# Convert dimensions to a DataFrame\n",
    "df = pd.DataFrame(dimensions)\n",
    "df[\"Area\"] = df['Height']*df['Width']\n",
    "\n",
    "# Plot the dimensions with Seaborn\n",
    "plt.figure(figsize=(10, 6))\n",
    "# sns.lineplot(data=df, x=df.index, y=\"Height\")\n",
    "sns.lineplot(data=df, x=df.index, y=\"Area\")\n",
    "plt.title(\"Image Dimensions\")\n",
    "plt.xlabel(\"Frame\")\n",
    "plt.ylabel(\"Height/Width\")\n",
    "plt.show()"
   ]
  },
  {
   "cell_type": "code",
   "execution_count": null,
   "metadata": {
    "id": "U7jaHtr8VSrZ"
   },
   "outputs": [],
   "source": [
    "\"\"\"\n",
    "\"\"\"\n",
    "\n",
    "def zoom(frames, iters=1, blur_kernel_size = (11,11), blur_sigma = 15, save_frames=False, output_dir = \"\"):\n",
    "    blurred_frames, contours = blur_maps(frames=frames,\n",
    "                                 iters=iters,\n",
    "                                 blur_kernel_size = blur_kernel_size,\n",
    "                                 blur_sigma = blur_sigma,\n",
    "                                 save_frames=save_frames,\n",
    "                                 output_dir=output_dir,\n",
    "                                 get_contours=True)\n",
    "\n",
    "    # return Zoomed cropped frames\n",
    "\n",
    "\n",
    "\n",
    "\n",
    "    return blurred_frames\n"
   ]
  },
  {
   "cell_type": "code",
   "execution_count": null,
   "metadata": {
    "colab": {
     "base_uri": "https://localhost:8080/",
     "height": 497
    },
    "id": "7jaY-YbgeFi6",
    "outputId": "e74fd04d-e212-40fd-c220-81ae0635a0bf"
   },
   "outputs": [
    {
     "data": {
      "image/jpeg": "[encoded data removed]",
      "image/png": "[encoded data removed]",
      "text/plain": [
       "<PIL.Image.Image image mode=RGB size=640x480>"
      ]
     },
     "execution_count": 83,
     "metadata": {},
     "output_type": "execute_result"
    }
   ],
   "source": [
    "blurred_frames[100]"
   ]
  },
  {
   "cell_type": "code",
   "execution_count": 25,
   "metadata": {
    "colab": {
     "base_uri": "https://localhost:8080/",
     "height": 497
    },
    "id": "hYHI-hsvYVPC",
    "outputId": "6fc8a0f4-ea50-47b1-e70f-3f9433cabe28"
   },
   "outputs": [
    {
     "ename": "NameError",
     "evalue": "name 'blurred_frames_5' is not defined",
     "output_type": "error",
     "traceback": [
      "\u001b[0;31m---------------------------------------------------------------------------\u001b[0m",
      "\u001b[0;31mNameError\u001b[0m                                 Traceback (most recent call last)",
      "Cell \u001b[0;32mIn[25], line 1\u001b[0m\n\u001b[0;32m----> 1\u001b[0m blurred_frames_5[\u001b[38;5;241m100\u001b[39m]\n",
      "\u001b[0;31mNameError\u001b[0m: name 'blurred_frames_5' is not defined"
     ]
    }
   ],
   "source": [
    "blurred_frames_5[100]"
   ]
  },
  {
   "cell_type": "code",
   "execution_count": null,
   "metadata": {
    "colab": {
     "base_uri": "https://localhost:8080/",
     "height": 497
    },
    "id": "qC5I7aHveYQ_",
    "outputId": "7a3c16cd-7cec-479a-c51a-798e881431f6"
   },
   "outputs": [
    {
     "data": {
      "image/jpeg": "[encoded data removed]",
      "image/png": "[encoded data removed]",
      "text/plain": [
       "<PIL.Image.Image image mode=RGB size=640x480>"
      ]
     },
     "execution_count": 85,
     "metadata": {},
     "output_type": "execute_result"
    }
   ],
   "source": [
    "blurred_frames_15[100]"
   ]
  },
  {
   "cell_type": "code",
   "execution_count": 37,
   "metadata": {
    "colab": {
     "base_uri": "https://localhost:8080/",
     "height": 49,
     "referenced_widgets": [
      "eebc80074eb24ee3a6d0293fb58bb6a7",
      "6bf702b5e6954af8aa3bf0b358659c06",
      "974434f9a99740c2994f461882225e03",
      "99638797f92c470cafc892153205f1f6",
      "fec43e89660a477b8fd2e0e6ab773775",
      "d0e845e0f2384a16b42aa00b4476ab44",
      "12022aa38ddd48daa148662338e034f8",
      "587769c36ef14128af199713890f6ba2",
      "13f4e41265dc4cdeac81fdcaaca0b063",
      "93a65bdd35f54f80b5d8ae53704cd963",
      "c7ef6a3bb7444585a63b3cb3d6cea74b"
     ]
    },
    "id": "BOWz0_xrsyCc",
    "outputId": "ba640d9e-a5ae-4e9f-c278-1357d7190c42"
   },
   "outputs": [
    {
     "data": {
      "application/vnd.jupyter.widget-view+json": {
       "model_id": "eebc80074eb24ee3a6d0293fb58bb6a7",
       "version_major": 2,
       "version_minor": 0
      },
      "text/plain": [
       "  0%|          | 0/639 [00:00<?, ?it/s]"
      ]
     },
     "metadata": {},
     "output_type": "display_data"
    }
   ],
   "source": [
    "# blurred_frames = blur_maps(frames=test, iters=2, blur_kernel_size = (11,11), blur_sigma = 15, save_frames=False, output_dir=\"\")\n",
    "# blurred_frames_5 = blur_maps(frames=test, iters=5, blur_kernel_size = (21,21), blur_sigma = 15, save_frames=False, output_dir=\"\")\n",
    "blurred_frames_15 = blur_maps(frames=test, iters=15, blur_kernel_size = (21,21), blur_sigma = 15, save_frames=False, output_dir=\"\")"
   ]
  },
  {
   "cell_type": "code",
   "execution_count": 39,
   "metadata": {
    "colab": {
     "base_uri": "https://localhost:8080/",
     "height": 497
    },
    "id": "8ES3zM8kGh-D",
    "outputId": "6d2d110f-acf7-4d19-e1af-5e1acd38907c"
   },
   "outputs": [
    {
     "data": {
      "image/jpeg": "[encoded data removed]",
      "image/png": "[encoded data removed]",
      "text/plain": [
       "<PIL.Image.Image image mode=RGB size=640x480>"
      ]
     },
     "execution_count": 39,
     "metadata": {},
     "output_type": "execute_result"
    }
   ],
   "source": [
    "blurred_frames_15[0]"
   ]
  },
  {
   "cell_type": "code",
   "execution_count": 38,
   "metadata": {
    "colab": {
     "base_uri": "https://localhost:8080/",
     "height": 67,
     "referenced_widgets": [
      "92fdb4162d87445196287e2546d0a15d",
      "12b5bb49177244ef872786d9e2a3cc48",
      "351ced4fb9bc47068d5b20fea3d68a64",
      "53222aad47904c40b2b17f769d6828f5",
      "40717fc7a5b94daca93a22399f06e8ef",
      "6565bb6f3f2e438380dd555832eadce9",
      "91cd13459d1644fc9ae3b6f6e759fea3",
      "b6a092b801d845c99477f966bc1bdeec",
      "8367865cc564439d96f9ef6d45e7d240",
      "9017d07565ed470cbb619ca65a5bfab3",
      "2998a2f920b643859a221202a892e02e"
     ]
    },
    "id": "GHUfBr8LvIBB",
    "outputId": "e9024a0a-fa94-4a5a-99da-59188787fc19"
   },
   "outputs": [
    {
     "data": {
      "application/vnd.jupyter.widget-view+json": {
       "model_id": "92fdb4162d87445196287e2546d0a15d",
       "version_major": 2,
       "version_minor": 0
      },
      "text/plain": [
       "  0%|          | 0/639 [00:00<?, ?it/s]"
      ]
     },
     "metadata": {},
     "output_type": "display_data"
    },
    {
     "name": "stdout",
     "output_type": "stream",
     "text": [
      "Video saved at: /content/drive/MyDrive/test.mp4\n"
     ]
    }
   ],
   "source": [
    "frames_dir = f\"/content/drive/MyDrive/SAM_output_video_frames_480p_multiple_blurred_heatmap_iters2\"\n",
    "output_video_path = '/content/drive/MyDrive/test.mp4'\n",
    "stitch_frames_to_video(frames=blurred_frames_15,frames_dir=\"\",output_video_path=output_video_path, from_dir=False, fps=60)"
   ]
  }
 ],
 "metadata": {
  "colab": {
   "provenance": []
  },
  "kernelspec": {
   "display_name": "Python 3 (ipykernel)",
   "language": "python",
   "name": "python3"
  },
  "language_info": {
   "codemirror_mode": {
    "name": "ipython",
    "version": 3
   },
   "file_extension": ".py",
   "mimetype": "text/x-python",
   "name": "python",
   "nbconvert_exporter": "python",
   "pygments_lexer": "ipython3",
   "version": "3.12.4"
  },
  "widgets": {
   "application/vnd.jupyter.widget-state+json": {
    "0137b48945dc46ed99b7505f89a9fcd0": {
     "model_module": "@jupyter-widgets/base",
     "model_module_version": "1.2.0",
     "model_name": "LayoutModel",
     "state": {
      "_model_module": "@jupyter-widgets/base",
      "_model_module_version": "1.2.0",
      "_model_name": "LayoutModel",
      "_view_count": null,
      "_view_module": "@jupyter-widgets/base",
      "_view_module_version": "1.2.0",
      "_view_name": "LayoutView",
      "align_content": null,
      "align_items": null,
      "align_self": null,
      "border": null,
      "bottom": null,
      "display": null,
      "flex": null,
      "flex_flow": null,
      "grid_area": null,
      "grid_auto_columns": null,
      "grid_auto_flow": null,
      "grid_auto_rows": null,
      "grid_column": null,
      "grid_gap": null,
      "grid_row": null,
      "grid_template_areas": null,
      "grid_template_columns": null,
      "grid_template_rows": null,
      "height": null,
      "justify_content": null,
      "justify_items": null,
      "left": null,
      "margin": null,
      "max_height": null,
      "max_width": null,
      "min_height": null,
      "min_width": null,
      "object_fit": null,
      "object_position": null,
      "order": null,
      "overflow": null,
      "overflow_x": null,
      "overflow_y": null,
      "padding": null,
      "right": null,
      "top": null,
      "visibility": null,
      "width": null
     }
    },
    "04871ac2883f4991b688b1d24f2af4c7": {
     "model_module": "@jupyter-widgets/controls",
     "model_module_version": "1.5.0",
     "model_name": "HTMLModel",
     "state": {
      "_dom_classes": [],
      "_model_module": "@jupyter-widgets/controls",
      "_model_module_version": "1.5.0",
      "_model_name": "HTMLModel",
      "_view_count": null,
      "_view_module": "@jupyter-widgets/controls",
      "_view_module_version": "1.5.0",
      "_view_name": "HTMLView",
      "description": "",
      "description_tooltip": null,
      "layout": "IPY_MODEL_f5429745e79744d3a1a9ae0cf57914e1",
      "placeholder": "​",
      "style": "IPY_MODEL_bc638515b3ad4449a701c32265416919",
      "value": " 639/639 [02:19&lt;00:00,  4.56it/s]"
     }
    },
    "12022aa38ddd48daa148662338e034f8": {
     "model_module": "@jupyter-widgets/controls",
     "model_module_version": "1.5.0",
     "model_name": "DescriptionStyleModel",
     "state": {
      "_model_module": "@jupyter-widgets/controls",
      "_model_module_version": "1.5.0",
      "_model_name": "DescriptionStyleModel",
      "_view_count": null,
      "_view_module": "@jupyter-widgets/base",
      "_view_module_version": "1.2.0",
      "_view_name": "StyleView",
      "description_width": ""
     }
    },
    "12b5bb49177244ef872786d9e2a3cc48": {
     "model_module": "@jupyter-widgets/controls",
     "model_module_version": "1.5.0",
     "model_name": "HTMLModel",
     "state": {
      "_dom_classes": [],
      "_model_module": "@jupyter-widgets/controls",
      "_model_module_version": "1.5.0",
      "_model_name": "HTMLModel",
      "_view_count": null,
      "_view_module": "@jupyter-widgets/controls",
      "_view_module_version": "1.5.0",
      "_view_name": "HTMLView",
      "description": "",
      "description_tooltip": null,
      "layout": "IPY_MODEL_6565bb6f3f2e438380dd555832eadce9",
      "placeholder": "​",
      "style": "IPY_MODEL_91cd13459d1644fc9ae3b6f6e759fea3",
      "value": "100%"
     }
    },
    "13f4e41265dc4cdeac81fdcaaca0b063": {
     "model_module": "@jupyter-widgets/controls",
     "model_module_version": "1.5.0",
     "model_name": "ProgressStyleModel",
     "state": {
      "_model_module": "@jupyter-widgets/controls",
      "_model_module_version": "1.5.0",
      "_model_name": "ProgressStyleModel",
      "_view_count": null,
      "_view_module": "@jupyter-widgets/base",
      "_view_module_version": "1.2.0",
      "_view_name": "StyleView",
      "bar_color": null,
      "description_width": ""
     }
    },
    "1cedd7cb921c4c41b75204eec1f2a1a0": {
     "model_module": "@jupyter-widgets/controls",
     "model_module_version": "1.5.0",
     "model_name": "FloatProgressModel",
     "state": {
      "_dom_classes": [],
      "_model_module": "@jupyter-widgets/controls",
      "_model_module_version": "1.5.0",
      "_model_name": "FloatProgressModel",
      "_view_count": null,
      "_view_module": "@jupyter-widgets/controls",
      "_view_module_version": "1.5.0",
      "_view_name": "ProgressView",
      "bar_style": "success",
      "description": "",
      "description_tooltip": null,
      "layout": "IPY_MODEL_c29ca30509b64ef0a477ea14c18682fb",
      "max": 639,
      "min": 0,
      "orientation": "horizontal",
      "style": "IPY_MODEL_34516eaa43b140c98842186e380d9c8d",
      "value": 639
     }
    },
    "258958d5ff42490787a81d258cd01b25": {
     "model_module": "@jupyter-widgets/controls",
     "model_module_version": "1.5.0",
     "model_name": "FloatProgressModel",
     "state": {
      "_dom_classes": [],
      "_model_module": "@jupyter-widgets/controls",
      "_model_module_version": "1.5.0",
      "_model_name": "FloatProgressModel",
      "_view_count": null,
      "_view_module": "@jupyter-widgets/controls",
      "_view_module_version": "1.5.0",
      "_view_name": "ProgressView",
      "bar_style": "success",
      "description": "",
      "description_tooltip": null,
      "layout": "IPY_MODEL_d5ee8d6d8b104f26a2cd0dc0615cae94",
      "max": 639,
      "min": 0,
      "orientation": "horizontal",
      "style": "IPY_MODEL_e2388dfaa029409aa8428acbd337a577",
      "value": 639
     }
    },
    "296371f6fb8c4a83a056bd161f3e930f": {
     "model_module": "@jupyter-widgets/base",
     "model_module_version": "1.2.0",
     "model_name": "LayoutModel",
     "state": {
      "_model_module": "@jupyter-widgets/base",
      "_model_module_version": "1.2.0",
      "_model_name": "LayoutModel",
      "_view_count": null,
      "_view_module": "@jupyter-widgets/base",
      "_view_module_version": "1.2.0",
      "_view_name": "LayoutView",
      "align_content": null,
      "align_items": null,
      "align_self": null,
      "border": null,
      "bottom": null,
      "display": null,
      "flex": null,
      "flex_flow": null,
      "grid_area": null,
      "grid_auto_columns": null,
      "grid_auto_flow": null,
      "grid_auto_rows": null,
      "grid_column": null,
      "grid_gap": null,
      "grid_row": null,
      "grid_template_areas": null,
      "grid_template_columns": null,
      "grid_template_rows": null,
      "height": null,
      "justify_content": null,
      "justify_items": null,
      "left": null,
      "margin": null,
      "max_height": null,
      "max_width": null,
      "min_height": null,
      "min_width": null,
      "object_fit": null,
      "object_position": null,
      "order": null,
      "overflow": null,
      "overflow_x": null,
      "overflow_y": null,
      "padding": null,
      "right": null,
      "top": null,
      "visibility": null,
      "width": null
     }
    },
    "2998a2f920b643859a221202a892e02e": {
     "model_module": "@jupyter-widgets/controls",
     "model_module_version": "1.5.0",
     "model_name": "DescriptionStyleModel",
     "state": {
      "_model_module": "@jupyter-widgets/controls",
      "_model_module_version": "1.5.0",
      "_model_name": "DescriptionStyleModel",
      "_view_count": null,
      "_view_module": "@jupyter-widgets/base",
      "_view_module_version": "1.2.0",
      "_view_name": "StyleView",
      "description_width": ""
     }
    },
    "34516eaa43b140c98842186e380d9c8d": {
     "model_module": "@jupyter-widgets/controls",
     "model_module_version": "1.5.0",
     "model_name": "ProgressStyleModel",
     "state": {
      "_model_module": "@jupyter-widgets/controls",
      "_model_module_version": "1.5.0",
      "_model_name": "ProgressStyleModel",
      "_view_count": null,
      "_view_module": "@jupyter-widgets/base",
      "_view_module_version": "1.2.0",
      "_view_name": "StyleView",
      "bar_color": null,
      "description_width": ""
     }
    },
    "351ced4fb9bc47068d5b20fea3d68a64": {
     "model_module": "@jupyter-widgets/controls",
     "model_module_version": "1.5.0",
     "model_name": "FloatProgressModel",
     "state": {
      "_dom_classes": [],
      "_model_module": "@jupyter-widgets/controls",
      "_model_module_version": "1.5.0",
      "_model_name": "FloatProgressModel",
      "_view_count": null,
      "_view_module": "@jupyter-widgets/controls",
      "_view_module_version": "1.5.0",
      "_view_name": "ProgressView",
      "bar_style": "success",
      "description": "",
      "description_tooltip": null,
      "layout": "IPY_MODEL_b6a092b801d845c99477f966bc1bdeec",
      "max": 639,
      "min": 0,
      "orientation": "horizontal",
      "style": "IPY_MODEL_8367865cc564439d96f9ef6d45e7d240",
      "value": 639
     }
    },
    "3d8fbb08ee374a80be79b7b7e55f1a8c": {
     "model_module": "@jupyter-widgets/base",
     "model_module_version": "1.2.0",
     "model_name": "LayoutModel",
     "state": {
      "_model_module": "@jupyter-widgets/base",
      "_model_module_version": "1.2.0",
      "_model_name": "LayoutModel",
      "_view_count": null,
      "_view_module": "@jupyter-widgets/base",
      "_view_module_version": "1.2.0",
      "_view_name": "LayoutView",
      "align_content": null,
      "align_items": null,
      "align_self": null,
      "border": null,
      "bottom": null,
      "display": null,
      "flex": null,
      "flex_flow": null,
      "grid_area": null,
      "grid_auto_columns": null,
      "grid_auto_flow": null,
      "grid_auto_rows": null,
      "grid_column": null,
      "grid_gap": null,
      "grid_row": null,
      "grid_template_areas": null,
      "grid_template_columns": null,
      "grid_template_rows": null,
      "height": null,
      "justify_content": null,
      "justify_items": null,
      "left": null,
      "margin": null,
      "max_height": null,
      "max_width": null,
      "min_height": null,
      "min_width": null,
      "object_fit": null,
      "object_position": null,
      "order": null,
      "overflow": null,
      "overflow_x": null,
      "overflow_y": null,
      "padding": null,
      "right": null,
      "top": null,
      "visibility": null,
      "width": null
     }
    },
    "40717fc7a5b94daca93a22399f06e8ef": {
     "model_module": "@jupyter-widgets/base",
     "model_module_version": "1.2.0",
     "model_name": "LayoutModel",
     "state": {
      "_model_module": "@jupyter-widgets/base",
      "_model_module_version": "1.2.0",
      "_model_name": "LayoutModel",
      "_view_count": null,
      "_view_module": "@jupyter-widgets/base",
      "_view_module_version": "1.2.0",
      "_view_name": "LayoutView",
      "align_content": null,
      "align_items": null,
      "align_self": null,
      "border": null,
      "bottom": null,
      "display": null,
      "flex": null,
      "flex_flow": null,
      "grid_area": null,
      "grid_auto_columns": null,
      "grid_auto_flow": null,
      "grid_auto_rows": null,
      "grid_column": null,
      "grid_gap": null,
      "grid_row": null,
      "grid_template_areas": null,
      "grid_template_columns": null,
      "grid_template_rows": null,
      "height": null,
      "justify_content": null,
      "justify_items": null,
      "left": null,
      "margin": null,
      "max_height": null,
      "max_width": null,
      "min_height": null,
      "min_width": null,
      "object_fit": null,
      "object_position": null,
      "order": null,
      "overflow": null,
      "overflow_x": null,
      "overflow_y": null,
      "padding": null,
      "right": null,
      "top": null,
      "visibility": null,
      "width": null
     }
    },
    "467ae51863e549d899047557eea4db46": {
     "model_module": "@jupyter-widgets/base",
     "model_module_version": "1.2.0",
     "model_name": "LayoutModel",
     "state": {
      "_model_module": "@jupyter-widgets/base",
      "_model_module_version": "1.2.0",
      "_model_name": "LayoutModel",
      "_view_count": null,
      "_view_module": "@jupyter-widgets/base",
      "_view_module_version": "1.2.0",
      "_view_name": "LayoutView",
      "align_content": null,
      "align_items": null,
      "align_self": null,
      "border": null,
      "bottom": null,
      "display": null,
      "flex": null,
      "flex_flow": null,
      "grid_area": null,
      "grid_auto_columns": null,
      "grid_auto_flow": null,
      "grid_auto_rows": null,
      "grid_column": null,
      "grid_gap": null,
      "grid_row": null,
      "grid_template_areas": null,
      "grid_template_columns": null,
      "grid_template_rows": null,
      "height": null,
      "justify_content": null,
      "justify_items": null,
      "left": null,
      "margin": null,
      "max_height": null,
      "max_width": null,
      "min_height": null,
      "min_width": null,
      "object_fit": null,
      "object_position": null,
      "order": null,
      "overflow": null,
      "overflow_x": null,
      "overflow_y": null,
      "padding": null,
      "right": null,
      "top": null,
      "visibility": null,
      "width": null
     }
    },
    "4fb68e099b004efd91fe18f55485cfed": {
     "model_module": "@jupyter-widgets/controls",
     "model_module_version": "1.5.0",
     "model_name": "HTMLModel",
     "state": {
      "_dom_classes": [],
      "_model_module": "@jupyter-widgets/controls",
      "_model_module_version": "1.5.0",
      "_model_name": "HTMLModel",
      "_view_count": null,
      "_view_module": "@jupyter-widgets/controls",
      "_view_module_version": "1.5.0",
      "_view_name": "HTMLView",
      "description": "",
      "description_tooltip": null,
      "layout": "IPY_MODEL_f56cea69772b4db785b7fbb2cf2569bf",
      "placeholder": "​",
      "style": "IPY_MODEL_edd27251023c44049030ce913d278953",
      "value": "100%"
     }
    },
    "53222aad47904c40b2b17f769d6828f5": {
     "model_module": "@jupyter-widgets/controls",
     "model_module_version": "1.5.0",
     "model_name": "HTMLModel",
     "state": {
      "_dom_classes": [],
      "_model_module": "@jupyter-widgets/controls",
      "_model_module_version": "1.5.0",
      "_model_name": "HTMLModel",
      "_view_count": null,
      "_view_module": "@jupyter-widgets/controls",
      "_view_module_version": "1.5.0",
      "_view_name": "HTMLView",
      "description": "",
      "description_tooltip": null,
      "layout": "IPY_MODEL_9017d07565ed470cbb619ca65a5bfab3",
      "placeholder": "​",
      "style": "IPY_MODEL_2998a2f920b643859a221202a892e02e",
      "value": " 639/639 [00:01&lt;00:00, 361.39it/s]"
     }
    },
    "539cbb77beda4dfb8a173985a049d151": {
     "model_module": "@jupyter-widgets/controls",
     "model_module_version": "1.5.0",
     "model_name": "HTMLModel",
     "state": {
      "_dom_classes": [],
      "_model_module": "@jupyter-widgets/controls",
      "_model_module_version": "1.5.0",
      "_model_name": "HTMLModel",
      "_view_count": null,
      "_view_module": "@jupyter-widgets/controls",
      "_view_module_version": "1.5.0",
      "_view_name": "HTMLView",
      "description": "",
      "description_tooltip": null,
      "layout": "IPY_MODEL_fca1fb26d86c4e79bb6ba06b85b185e2",
      "placeholder": "​",
      "style": "IPY_MODEL_5f6ccc8ed16541018b2e0077ce3eed42",
      "value": " 639/639 [00:00&lt;00:00, 1147.86it/s]"
     }
    },
    "582e667fca79485daa3babc52a46981c": {
     "model_module": "@jupyter-widgets/controls",
     "model_module_version": "1.5.0",
     "model_name": "HTMLModel",
     "state": {
      "_dom_classes": [],
      "_model_module": "@jupyter-widgets/controls",
      "_model_module_version": "1.5.0",
      "_model_name": "HTMLModel",
      "_view_count": null,
      "_view_module": "@jupyter-widgets/controls",
      "_view_module_version": "1.5.0",
      "_view_name": "HTMLView",
      "description": "",
      "description_tooltip": null,
      "layout": "IPY_MODEL_0137b48945dc46ed99b7505f89a9fcd0",
      "placeholder": "​",
      "style": "IPY_MODEL_9d1ca2a4216e4fb1937baa8204e79fb9",
      "value": "100%"
     }
    },
    "587769c36ef14128af199713890f6ba2": {
     "model_module": "@jupyter-widgets/base",
     "model_module_version": "1.2.0",
     "model_name": "LayoutModel",
     "state": {
      "_model_module": "@jupyter-widgets/base",
      "_model_module_version": "1.2.0",
      "_model_name": "LayoutModel",
      "_view_count": null,
      "_view_module": "@jupyter-widgets/base",
      "_view_module_version": "1.2.0",
      "_view_name": "LayoutView",
      "align_content": null,
      "align_items": null,
      "align_self": null,
      "border": null,
      "bottom": null,
      "display": null,
      "flex": null,
      "flex_flow": null,
      "grid_area": null,
      "grid_auto_columns": null,
      "grid_auto_flow": null,
      "grid_auto_rows": null,
      "grid_column": null,
      "grid_gap": null,
      "grid_row": null,
      "grid_template_areas": null,
      "grid_template_columns": null,
      "grid_template_rows": null,
      "height": null,
      "justify_content": null,
      "justify_items": null,
      "left": null,
      "margin": null,
      "max_height": null,
      "max_width": null,
      "min_height": null,
      "min_width": null,
      "object_fit": null,
      "object_position": null,
      "order": null,
      "overflow": null,
      "overflow_x": null,
      "overflow_y": null,
      "padding": null,
      "right": null,
      "top": null,
      "visibility": null,
      "width": null
     }
    },
    "5f6ccc8ed16541018b2e0077ce3eed42": {
     "model_module": "@jupyter-widgets/controls",
     "model_module_version": "1.5.0",
     "model_name": "DescriptionStyleModel",
     "state": {
      "_model_module": "@jupyter-widgets/controls",
      "_model_module_version": "1.5.0",
      "_model_name": "DescriptionStyleModel",
      "_view_count": null,
      "_view_module": "@jupyter-widgets/base",
      "_view_module_version": "1.2.0",
      "_view_name": "StyleView",
      "description_width": ""
     }
    },
    "6565bb6f3f2e438380dd555832eadce9": {
     "model_module": "@jupyter-widgets/base",
     "model_module_version": "1.2.0",
     "model_name": "LayoutModel",
     "state": {
      "_model_module": "@jupyter-widgets/base",
      "_model_module_version": "1.2.0",
      "_model_name": "LayoutModel",
      "_view_count": null,
      "_view_module": "@jupyter-widgets/base",
      "_view_module_version": "1.2.0",
      "_view_name": "LayoutView",
      "align_content": null,
      "align_items": null,
      "align_self": null,
      "border": null,
      "bottom": null,
      "display": null,
      "flex": null,
      "flex_flow": null,
      "grid_area": null,
      "grid_auto_columns": null,
      "grid_auto_flow": null,
      "grid_auto_rows": null,
      "grid_column": null,
      "grid_gap": null,
      "grid_row": null,
      "grid_template_areas": null,
      "grid_template_columns": null,
      "grid_template_rows": null,
      "height": null,
      "justify_content": null,
      "justify_items": null,
      "left": null,
      "margin": null,
      "max_height": null,
      "max_width": null,
      "min_height": null,
      "min_width": null,
      "object_fit": null,
      "object_position": null,
      "order": null,
      "overflow": null,
      "overflow_x": null,
      "overflow_y": null,
      "padding": null,
      "right": null,
      "top": null,
      "visibility": null,
      "width": null
     }
    },
    "65a2a38e1d4649dbbe4b570a6ea68857": {
     "model_module": "@jupyter-widgets/controls",
     "model_module_version": "1.5.0",
     "model_name": "DescriptionStyleModel",
     "state": {
      "_model_module": "@jupyter-widgets/controls",
      "_model_module_version": "1.5.0",
      "_model_name": "DescriptionStyleModel",
      "_view_count": null,
      "_view_module": "@jupyter-widgets/base",
      "_view_module_version": "1.2.0",
      "_view_name": "StyleView",
      "description_width": ""
     }
    },
    "6bf702b5e6954af8aa3bf0b358659c06": {
     "model_module": "@jupyter-widgets/controls",
     "model_module_version": "1.5.0",
     "model_name": "HTMLModel",
     "state": {
      "_dom_classes": [],
      "_model_module": "@jupyter-widgets/controls",
      "_model_module_version": "1.5.0",
      "_model_name": "HTMLModel",
      "_view_count": null,
      "_view_module": "@jupyter-widgets/controls",
      "_view_module_version": "1.5.0",
      "_view_name": "HTMLView",
      "description": "",
      "description_tooltip": null,
      "layout": "IPY_MODEL_d0e845e0f2384a16b42aa00b4476ab44",
      "placeholder": "​",
      "style": "IPY_MODEL_12022aa38ddd48daa148662338e034f8",
      "value": "100%"
     }
    },
    "70e7b60fe2634066b72ba2bc7024b884": {
     "model_module": "@jupyter-widgets/controls",
     "model_module_version": "1.5.0",
     "model_name": "HBoxModel",
     "state": {
      "_dom_classes": [],
      "_model_module": "@jupyter-widgets/controls",
      "_model_module_version": "1.5.0",
      "_model_name": "HBoxModel",
      "_view_count": null,
      "_view_module": "@jupyter-widgets/controls",
      "_view_module_version": "1.5.0",
      "_view_name": "HBoxView",
      "box_style": "",
      "children": [
       "IPY_MODEL_e75c8298c6b94a0f9e3f00897f9a9aaf",
       "IPY_MODEL_1cedd7cb921c4c41b75204eec1f2a1a0",
       "IPY_MODEL_a535e0218ab849d687fb8adc0086511c"
      ],
      "layout": "IPY_MODEL_296371f6fb8c4a83a056bd161f3e930f"
     }
    },
    "79e620c4cdb845ae9244c79997c5e593": {
     "model_module": "@jupyter-widgets/controls",
     "model_module_version": "1.5.0",
     "model_name": "DescriptionStyleModel",
     "state": {
      "_model_module": "@jupyter-widgets/controls",
      "_model_module_version": "1.5.0",
      "_model_name": "DescriptionStyleModel",
      "_view_count": null,
      "_view_module": "@jupyter-widgets/base",
      "_view_module_version": "1.2.0",
      "_view_name": "StyleView",
      "description_width": ""
     }
    },
    "8367865cc564439d96f9ef6d45e7d240": {
     "model_module": "@jupyter-widgets/controls",
     "model_module_version": "1.5.0",
     "model_name": "ProgressStyleModel",
     "state": {
      "_model_module": "@jupyter-widgets/controls",
      "_model_module_version": "1.5.0",
      "_model_name": "ProgressStyleModel",
      "_view_count": null,
      "_view_module": "@jupyter-widgets/base",
      "_view_module_version": "1.2.0",
      "_view_name": "StyleView",
      "bar_color": null,
      "description_width": ""
     }
    },
    "9017d07565ed470cbb619ca65a5bfab3": {
     "model_module": "@jupyter-widgets/base",
     "model_module_version": "1.2.0",
     "model_name": "LayoutModel",
     "state": {
      "_model_module": "@jupyter-widgets/base",
      "_model_module_version": "1.2.0",
      "_model_name": "LayoutModel",
      "_view_count": null,
      "_view_module": "@jupyter-widgets/base",
      "_view_module_version": "1.2.0",
      "_view_name": "LayoutView",
      "align_content": null,
      "align_items": null,
      "align_self": null,
      "border": null,
      "bottom": null,
      "display": null,
      "flex": null,
      "flex_flow": null,
      "grid_area": null,
      "grid_auto_columns": null,
      "grid_auto_flow": null,
      "grid_auto_rows": null,
      "grid_column": null,
      "grid_gap": null,
      "grid_row": null,
      "grid_template_areas": null,
      "grid_template_columns": null,
      "grid_template_rows": null,
      "height": null,
      "justify_content": null,
      "justify_items": null,
      "left": null,
      "margin": null,
      "max_height": null,
      "max_width": null,
      "min_height": null,
      "min_width": null,
      "object_fit": null,
      "object_position": null,
      "order": null,
      "overflow": null,
      "overflow_x": null,
      "overflow_y": null,
      "padding": null,
      "right": null,
      "top": null,
      "visibility": null,
      "width": null
     }
    },
    "91cd13459d1644fc9ae3b6f6e759fea3": {
     "model_module": "@jupyter-widgets/controls",
     "model_module_version": "1.5.0",
     "model_name": "DescriptionStyleModel",
     "state": {
      "_model_module": "@jupyter-widgets/controls",
      "_model_module_version": "1.5.0",
      "_model_name": "DescriptionStyleModel",
      "_view_count": null,
      "_view_module": "@jupyter-widgets/base",
      "_view_module_version": "1.2.0",
      "_view_name": "StyleView",
      "description_width": ""
     }
    },
    "92fdb4162d87445196287e2546d0a15d": {
     "model_module": "@jupyter-widgets/controls",
     "model_module_version": "1.5.0",
     "model_name": "HBoxModel",
     "state": {
      "_dom_classes": [],
      "_model_module": "@jupyter-widgets/controls",
      "_model_module_version": "1.5.0",
      "_model_name": "HBoxModel",
      "_view_count": null,
      "_view_module": "@jupyter-widgets/controls",
      "_view_module_version": "1.5.0",
      "_view_name": "HBoxView",
      "box_style": "",
      "children": [
       "IPY_MODEL_12b5bb49177244ef872786d9e2a3cc48",
       "IPY_MODEL_351ced4fb9bc47068d5b20fea3d68a64",
       "IPY_MODEL_53222aad47904c40b2b17f769d6828f5"
      ],
      "layout": "IPY_MODEL_40717fc7a5b94daca93a22399f06e8ef"
     }
    },
    "93a65bdd35f54f80b5d8ae53704cd963": {
     "model_module": "@jupyter-widgets/base",
     "model_module_version": "1.2.0",
     "model_name": "LayoutModel",
     "state": {
      "_model_module": "@jupyter-widgets/base",
      "_model_module_version": "1.2.0",
      "_model_name": "LayoutModel",
      "_view_count": null,
      "_view_module": "@jupyter-widgets/base",
      "_view_module_version": "1.2.0",
      "_view_name": "LayoutView",
      "align_content": null,
      "align_items": null,
      "align_self": null,
      "border": null,
      "bottom": null,
      "display": null,
      "flex": null,
      "flex_flow": null,
      "grid_area": null,
      "grid_auto_columns": null,
      "grid_auto_flow": null,
      "grid_auto_rows": null,
      "grid_column": null,
      "grid_gap": null,
      "grid_row": null,
      "grid_template_areas": null,
      "grid_template_columns": null,
      "grid_template_rows": null,
      "height": null,
      "justify_content": null,
      "justify_items": null,
      "left": null,
      "margin": null,
      "max_height": null,
      "max_width": null,
      "min_height": null,
      "min_width": null,
      "object_fit": null,
      "object_position": null,
      "order": null,
      "overflow": null,
      "overflow_x": null,
      "overflow_y": null,
      "padding": null,
      "right": null,
      "top": null,
      "visibility": null,
      "width": null
     }
    },
    "974434f9a99740c2994f461882225e03": {
     "model_module": "@jupyter-widgets/controls",
     "model_module_version": "1.5.0",
     "model_name": "FloatProgressModel",
     "state": {
      "_dom_classes": [],
      "_model_module": "@jupyter-widgets/controls",
      "_model_module_version": "1.5.0",
      "_model_name": "FloatProgressModel",
      "_view_count": null,
      "_view_module": "@jupyter-widgets/controls",
      "_view_module_version": "1.5.0",
      "_view_name": "ProgressView",
      "bar_style": "success",
      "description": "",
      "description_tooltip": null,
      "layout": "IPY_MODEL_587769c36ef14128af199713890f6ba2",
      "max": 639,
      "min": 0,
      "orientation": "horizontal",
      "style": "IPY_MODEL_13f4e41265dc4cdeac81fdcaaca0b063",
      "value": 639
     }
    },
    "99638797f92c470cafc892153205f1f6": {
     "model_module": "@jupyter-widgets/controls",
     "model_module_version": "1.5.0",
     "model_name": "HTMLModel",
     "state": {
      "_dom_classes": [],
      "_model_module": "@jupyter-widgets/controls",
      "_model_module_version": "1.5.0",
      "_model_name": "HTMLModel",
      "_view_count": null,
      "_view_module": "@jupyter-widgets/controls",
      "_view_module_version": "1.5.0",
      "_view_name": "HTMLView",
      "description": "",
      "description_tooltip": null,
      "layout": "IPY_MODEL_93a65bdd35f54f80b5d8ae53704cd963",
      "placeholder": "​",
      "style": "IPY_MODEL_c7ef6a3bb7444585a63b3cb3d6cea74b",
      "value": " 639/639 [00:53&lt;00:00, 14.27it/s]"
     }
    },
    "9d1ca2a4216e4fb1937baa8204e79fb9": {
     "model_module": "@jupyter-widgets/controls",
     "model_module_version": "1.5.0",
     "model_name": "DescriptionStyleModel",
     "state": {
      "_model_module": "@jupyter-widgets/controls",
      "_model_module_version": "1.5.0",
      "_model_name": "DescriptionStyleModel",
      "_view_count": null,
      "_view_module": "@jupyter-widgets/base",
      "_view_module_version": "1.2.0",
      "_view_name": "StyleView",
      "description_width": ""
     }
    },
    "a535e0218ab849d687fb8adc0086511c": {
     "model_module": "@jupyter-widgets/controls",
     "model_module_version": "1.5.0",
     "model_name": "HTMLModel",
     "state": {
      "_dom_classes": [],
      "_model_module": "@jupyter-widgets/controls",
      "_model_module_version": "1.5.0",
      "_model_name": "HTMLModel",
      "_view_count": null,
      "_view_module": "@jupyter-widgets/controls",
      "_view_module_version": "1.5.0",
      "_view_name": "HTMLView",
      "description": "",
      "description_tooltip": null,
      "layout": "IPY_MODEL_ec33bd1dbb904bbfa7d28c1af071ea64",
      "placeholder": "​",
      "style": "IPY_MODEL_65a2a38e1d4649dbbe4b570a6ea68857",
      "value": " 639/639 [00:48&lt;00:00, 14.74it/s]"
     }
    },
    "add9ee170a3a433a93d6e8bc71716c1c": {
     "model_module": "@jupyter-widgets/controls",
     "model_module_version": "1.5.0",
     "model_name": "ProgressStyleModel",
     "state": {
      "_model_module": "@jupyter-widgets/controls",
      "_model_module_version": "1.5.0",
      "_model_name": "ProgressStyleModel",
      "_view_count": null,
      "_view_module": "@jupyter-widgets/base",
      "_view_module_version": "1.2.0",
      "_view_name": "StyleView",
      "bar_color": null,
      "description_width": ""
     }
    },
    "b6a092b801d845c99477f966bc1bdeec": {
     "model_module": "@jupyter-widgets/base",
     "model_module_version": "1.2.0",
     "model_name": "LayoutModel",
     "state": {
      "_model_module": "@jupyter-widgets/base",
      "_model_module_version": "1.2.0",
      "_model_name": "LayoutModel",
      "_view_count": null,
      "_view_module": "@jupyter-widgets/base",
      "_view_module_version": "1.2.0",
      "_view_name": "LayoutView",
      "align_content": null,
      "align_items": null,
      "align_self": null,
      "border": null,
      "bottom": null,
      "display": null,
      "flex": null,
      "flex_flow": null,
      "grid_area": null,
      "grid_auto_columns": null,
      "grid_auto_flow": null,
      "grid_auto_rows": null,
      "grid_column": null,
      "grid_gap": null,
      "grid_row": null,
      "grid_template_areas": null,
      "grid_template_columns": null,
      "grid_template_rows": null,
      "height": null,
      "justify_content": null,
      "justify_items": null,
      "left": null,
      "margin": null,
      "max_height": null,
      "max_width": null,
      "min_height": null,
      "min_width": null,
      "object_fit": null,
      "object_position": null,
      "order": null,
      "overflow": null,
      "overflow_x": null,
      "overflow_y": null,
      "padding": null,
      "right": null,
      "top": null,
      "visibility": null,
      "width": null
     }
    },
    "b837c1e555354c57ac24f8345c0b6a2b": {
     "model_module": "@jupyter-widgets/controls",
     "model_module_version": "1.5.0",
     "model_name": "FloatProgressModel",
     "state": {
      "_dom_classes": [],
      "_model_module": "@jupyter-widgets/controls",
      "_model_module_version": "1.5.0",
      "_model_name": "FloatProgressModel",
      "_view_count": null,
      "_view_module": "@jupyter-widgets/controls",
      "_view_module_version": "1.5.0",
      "_view_name": "ProgressView",
      "bar_style": "success",
      "description": "",
      "description_tooltip": null,
      "layout": "IPY_MODEL_467ae51863e549d899047557eea4db46",
      "max": 639,
      "min": 0,
      "orientation": "horizontal",
      "style": "IPY_MODEL_add9ee170a3a433a93d6e8bc71716c1c",
      "value": 639
     }
    },
    "bc638515b3ad4449a701c32265416919": {
     "model_module": "@jupyter-widgets/controls",
     "model_module_version": "1.5.0",
     "model_name": "DescriptionStyleModel",
     "state": {
      "_model_module": "@jupyter-widgets/controls",
      "_model_module_version": "1.5.0",
      "_model_name": "DescriptionStyleModel",
      "_view_count": null,
      "_view_module": "@jupyter-widgets/base",
      "_view_module_version": "1.2.0",
      "_view_name": "StyleView",
      "description_width": ""
     }
    },
    "c29ca30509b64ef0a477ea14c18682fb": {
     "model_module": "@jupyter-widgets/base",
     "model_module_version": "1.2.0",
     "model_name": "LayoutModel",
     "state": {
      "_model_module": "@jupyter-widgets/base",
      "_model_module_version": "1.2.0",
      "_model_name": "LayoutModel",
      "_view_count": null,
      "_view_module": "@jupyter-widgets/base",
      "_view_module_version": "1.2.0",
      "_view_name": "LayoutView",
      "align_content": null,
      "align_items": null,
      "align_self": null,
      "border": null,
      "bottom": null,
      "display": null,
      "flex": null,
      "flex_flow": null,
      "grid_area": null,
      "grid_auto_columns": null,
      "grid_auto_flow": null,
      "grid_auto_rows": null,
      "grid_column": null,
      "grid_gap": null,
      "grid_row": null,
      "grid_template_areas": null,
      "grid_template_columns": null,
      "grid_template_rows": null,
      "height": null,
      "justify_content": null,
      "justify_items": null,
      "left": null,
      "margin": null,
      "max_height": null,
      "max_width": null,
      "min_height": null,
      "min_width": null,
      "object_fit": null,
      "object_position": null,
      "order": null,
      "overflow": null,
      "overflow_x": null,
      "overflow_y": null,
      "padding": null,
      "right": null,
      "top": null,
      "visibility": null,
      "width": null
     }
    },
    "c7ef6a3bb7444585a63b3cb3d6cea74b": {
     "model_module": "@jupyter-widgets/controls",
     "model_module_version": "1.5.0",
     "model_name": "DescriptionStyleModel",
     "state": {
      "_model_module": "@jupyter-widgets/controls",
      "_model_module_version": "1.5.0",
      "_model_name": "DescriptionStyleModel",
      "_view_count": null,
      "_view_module": "@jupyter-widgets/base",
      "_view_module_version": "1.2.0",
      "_view_name": "StyleView",
      "description_width": ""
     }
    },
    "d0e845e0f2384a16b42aa00b4476ab44": {
     "model_module": "@jupyter-widgets/base",
     "model_module_version": "1.2.0",
     "model_name": "LayoutModel",
     "state": {
      "_model_module": "@jupyter-widgets/base",
      "_model_module_version": "1.2.0",
      "_model_name": "LayoutModel",
      "_view_count": null,
      "_view_module": "@jupyter-widgets/base",
      "_view_module_version": "1.2.0",
      "_view_name": "LayoutView",
      "align_content": null,
      "align_items": null,
      "align_self": null,
      "border": null,
      "bottom": null,
      "display": null,
      "flex": null,
      "flex_flow": null,
      "grid_area": null,
      "grid_auto_columns": null,
      "grid_auto_flow": null,
      "grid_auto_rows": null,
      "grid_column": null,
      "grid_gap": null,
      "grid_row": null,
      "grid_template_areas": null,
      "grid_template_columns": null,
      "grid_template_rows": null,
      "height": null,
      "justify_content": null,
      "justify_items": null,
      "left": null,
      "margin": null,
      "max_height": null,
      "max_width": null,
      "min_height": null,
      "min_width": null,
      "object_fit": null,
      "object_position": null,
      "order": null,
      "overflow": null,
      "overflow_x": null,
      "overflow_y": null,
      "padding": null,
      "right": null,
      "top": null,
      "visibility": null,
      "width": null
     }
    },
    "d5ee8d6d8b104f26a2cd0dc0615cae94": {
     "model_module": "@jupyter-widgets/base",
     "model_module_version": "1.2.0",
     "model_name": "LayoutModel",
     "state": {
      "_model_module": "@jupyter-widgets/base",
      "_model_module_version": "1.2.0",
      "_model_name": "LayoutModel",
      "_view_count": null,
      "_view_module": "@jupyter-widgets/base",
      "_view_module_version": "1.2.0",
      "_view_name": "LayoutView",
      "align_content": null,
      "align_items": null,
      "align_self": null,
      "border": null,
      "bottom": null,
      "display": null,
      "flex": null,
      "flex_flow": null,
      "grid_area": null,
      "grid_auto_columns": null,
      "grid_auto_flow": null,
      "grid_auto_rows": null,
      "grid_column": null,
      "grid_gap": null,
      "grid_row": null,
      "grid_template_areas": null,
      "grid_template_columns": null,
      "grid_template_rows": null,
      "height": null,
      "justify_content": null,
      "justify_items": null,
      "left": null,
      "margin": null,
      "max_height": null,
      "max_width": null,
      "min_height": null,
      "min_width": null,
      "object_fit": null,
      "object_position": null,
      "order": null,
      "overflow": null,
      "overflow_x": null,
      "overflow_y": null,
      "padding": null,
      "right": null,
      "top": null,
      "visibility": null,
      "width": null
     }
    },
    "d7ecefec632a4279a59f5c0252845839": {
     "model_module": "@jupyter-widgets/controls",
     "model_module_version": "1.5.0",
     "model_name": "HBoxModel",
     "state": {
      "_dom_classes": [],
      "_model_module": "@jupyter-widgets/controls",
      "_model_module_version": "1.5.0",
      "_model_name": "HBoxModel",
      "_view_count": null,
      "_view_module": "@jupyter-widgets/controls",
      "_view_module_version": "1.5.0",
      "_view_name": "HBoxView",
      "box_style": "",
      "children": [
       "IPY_MODEL_4fb68e099b004efd91fe18f55485cfed",
       "IPY_MODEL_b837c1e555354c57ac24f8345c0b6a2b",
       "IPY_MODEL_04871ac2883f4991b688b1d24f2af4c7"
      ],
      "layout": "IPY_MODEL_f17b82bd7a2c448489926a9d895cd052"
     }
    },
    "e2388dfaa029409aa8428acbd337a577": {
     "model_module": "@jupyter-widgets/controls",
     "model_module_version": "1.5.0",
     "model_name": "ProgressStyleModel",
     "state": {
      "_model_module": "@jupyter-widgets/controls",
      "_model_module_version": "1.5.0",
      "_model_name": "ProgressStyleModel",
      "_view_count": null,
      "_view_module": "@jupyter-widgets/base",
      "_view_module_version": "1.2.0",
      "_view_name": "StyleView",
      "bar_color": null,
      "description_width": ""
     }
    },
    "e75c8298c6b94a0f9e3f00897f9a9aaf": {
     "model_module": "@jupyter-widgets/controls",
     "model_module_version": "1.5.0",
     "model_name": "HTMLModel",
     "state": {
      "_dom_classes": [],
      "_model_module": "@jupyter-widgets/controls",
      "_model_module_version": "1.5.0",
      "_model_name": "HTMLModel",
      "_view_count": null,
      "_view_module": "@jupyter-widgets/controls",
      "_view_module_version": "1.5.0",
      "_view_name": "HTMLView",
      "description": "",
      "description_tooltip": null,
      "layout": "IPY_MODEL_3d8fbb08ee374a80be79b7b7e55f1a8c",
      "placeholder": "​",
      "style": "IPY_MODEL_79e620c4cdb845ae9244c79997c5e593",
      "value": "100%"
     }
    },
    "ec33bd1dbb904bbfa7d28c1af071ea64": {
     "model_module": "@jupyter-widgets/base",
     "model_module_version": "1.2.0",
     "model_name": "LayoutModel",
     "state": {
      "_model_module": "@jupyter-widgets/base",
      "_model_module_version": "1.2.0",
      "_model_name": "LayoutModel",
      "_view_count": null,
      "_view_module": "@jupyter-widgets/base",
      "_view_module_version": "1.2.0",
      "_view_name": "LayoutView",
      "align_content": null,
      "align_items": null,
      "align_self": null,
      "border": null,
      "bottom": null,
      "display": null,
      "flex": null,
      "flex_flow": null,
      "grid_area": null,
      "grid_auto_columns": null,
      "grid_auto_flow": null,
      "grid_auto_rows": null,
      "grid_column": null,
      "grid_gap": null,
      "grid_row": null,
      "grid_template_areas": null,
      "grid_template_columns": null,
      "grid_template_rows": null,
      "height": null,
      "justify_content": null,
      "justify_items": null,
      "left": null,
      "margin": null,
      "max_height": null,
      "max_width": null,
      "min_height": null,
      "min_width": null,
      "object_fit": null,
      "object_position": null,
      "order": null,
      "overflow": null,
      "overflow_x": null,
      "overflow_y": null,
      "padding": null,
      "right": null,
      "top": null,
      "visibility": null,
      "width": null
     }
    },
    "edd27251023c44049030ce913d278953": {
     "model_module": "@jupyter-widgets/controls",
     "model_module_version": "1.5.0",
     "model_name": "DescriptionStyleModel",
     "state": {
      "_model_module": "@jupyter-widgets/controls",
      "_model_module_version": "1.5.0",
      "_model_name": "DescriptionStyleModel",
      "_view_count": null,
      "_view_module": "@jupyter-widgets/base",
      "_view_module_version": "1.2.0",
      "_view_name": "StyleView",
      "description_width": ""
     }
    },
    "eebc80074eb24ee3a6d0293fb58bb6a7": {
     "model_module": "@jupyter-widgets/controls",
     "model_module_version": "1.5.0",
     "model_name": "HBoxModel",
     "state": {
      "_dom_classes": [],
      "_model_module": "@jupyter-widgets/controls",
      "_model_module_version": "1.5.0",
      "_model_name": "HBoxModel",
      "_view_count": null,
      "_view_module": "@jupyter-widgets/controls",
      "_view_module_version": "1.5.0",
      "_view_name": "HBoxView",
      "box_style": "",
      "children": [
       "IPY_MODEL_6bf702b5e6954af8aa3bf0b358659c06",
       "IPY_MODEL_974434f9a99740c2994f461882225e03",
       "IPY_MODEL_99638797f92c470cafc892153205f1f6"
      ],
      "layout": "IPY_MODEL_fec43e89660a477b8fd2e0e6ab773775"
     }
    },
    "f06b5d892de747d7b6bd233074d2fb54": {
     "model_module": "@jupyter-widgets/base",
     "model_module_version": "1.2.0",
     "model_name": "LayoutModel",
     "state": {
      "_model_module": "@jupyter-widgets/base",
      "_model_module_version": "1.2.0",
      "_model_name": "LayoutModel",
      "_view_count": null,
      "_view_module": "@jupyter-widgets/base",
      "_view_module_version": "1.2.0",
      "_view_name": "LayoutView",
      "align_content": null,
      "align_items": null,
      "align_self": null,
      "border": null,
      "bottom": null,
      "display": null,
      "flex": null,
      "flex_flow": null,
      "grid_area": null,
      "grid_auto_columns": null,
      "grid_auto_flow": null,
      "grid_auto_rows": null,
      "grid_column": null,
      "grid_gap": null,
      "grid_row": null,
      "grid_template_areas": null,
      "grid_template_columns": null,
      "grid_template_rows": null,
      "height": null,
      "justify_content": null,
      "justify_items": null,
      "left": null,
      "margin": null,
      "max_height": null,
      "max_width": null,
      "min_height": null,
      "min_width": null,
      "object_fit": null,
      "object_position": null,
      "order": null,
      "overflow": null,
      "overflow_x": null,
      "overflow_y": null,
      "padding": null,
      "right": null,
      "top": null,
      "visibility": null,
      "width": null
     }
    },
    "f17b82bd7a2c448489926a9d895cd052": {
     "model_module": "@jupyter-widgets/base",
     "model_module_version": "1.2.0",
     "model_name": "LayoutModel",
     "state": {
      "_model_module": "@jupyter-widgets/base",
      "_model_module_version": "1.2.0",
      "_model_name": "LayoutModel",
      "_view_count": null,
      "_view_module": "@jupyter-widgets/base",
      "_view_module_version": "1.2.0",
      "_view_name": "LayoutView",
      "align_content": null,
      "align_items": null,
      "align_self": null,
      "border": null,
      "bottom": null,
      "display": null,
      "flex": null,
      "flex_flow": null,
      "grid_area": null,
      "grid_auto_columns": null,
      "grid_auto_flow": null,
      "grid_auto_rows": null,
      "grid_column": null,
      "grid_gap": null,
      "grid_row": null,
      "grid_template_areas": null,
      "grid_template_columns": null,
      "grid_template_rows": null,
      "height": null,
      "justify_content": null,
      "justify_items": null,
      "left": null,
      "margin": null,
      "max_height": null,
      "max_width": null,
      "min_height": null,
      "min_width": null,
      "object_fit": null,
      "object_position": null,
      "order": null,
      "overflow": null,
      "overflow_x": null,
      "overflow_y": null,
      "padding": null,
      "right": null,
      "top": null,
      "visibility": null,
      "width": null
     }
    },
    "f3a1360b1da84ca9b006a5e624531f5f": {
     "model_module": "@jupyter-widgets/controls",
     "model_module_version": "1.5.0",
     "model_name": "HBoxModel",
     "state": {
      "_dom_classes": [],
      "_model_module": "@jupyter-widgets/controls",
      "_model_module_version": "1.5.0",
      "_model_name": "HBoxModel",
      "_view_count": null,
      "_view_module": "@jupyter-widgets/controls",
      "_view_module_version": "1.5.0",
      "_view_name": "HBoxView",
      "box_style": "",
      "children": [
       "IPY_MODEL_582e667fca79485daa3babc52a46981c",
       "IPY_MODEL_258958d5ff42490787a81d258cd01b25",
       "IPY_MODEL_539cbb77beda4dfb8a173985a049d151"
      ],
      "layout": "IPY_MODEL_f06b5d892de747d7b6bd233074d2fb54"
     }
    },
    "f5429745e79744d3a1a9ae0cf57914e1": {
     "model_module": "@jupyter-widgets/base",
     "model_module_version": "1.2.0",
     "model_name": "LayoutModel",
     "state": {
      "_model_module": "@jupyter-widgets/base",
      "_model_module_version": "1.2.0",
      "_model_name": "LayoutModel",
      "_view_count": null,
      "_view_module": "@jupyter-widgets/base",
      "_view_module_version": "1.2.0",
      "_view_name": "LayoutView",
      "align_content": null,
      "align_items": null,
      "align_self": null,
      "border": null,
      "bottom": null,
      "display": null,
      "flex": null,
      "flex_flow": null,
      "grid_area": null,
      "grid_auto_columns": null,
      "grid_auto_flow": null,
      "grid_auto_rows": null,
      "grid_column": null,
      "grid_gap": null,
      "grid_row": null,
      "grid_template_areas": null,
      "grid_template_columns": null,
      "grid_template_rows": null,
      "height": null,
      "justify_content": null,
      "justify_items": null,
      "left": null,
      "margin": null,
      "max_height": null,
      "max_width": null,
      "min_height": null,
      "min_width": null,
      "object_fit": null,
      "object_position": null,
      "order": null,
      "overflow": null,
      "overflow_x": null,
      "overflow_y": null,
      "padding": null,
      "right": null,
      "top": null,
      "visibility": null,
      "width": null
     }
    },
    "f56cea69772b4db785b7fbb2cf2569bf": {
     "model_module": "@jupyter-widgets/base",
     "model_module_version": "1.2.0",
     "model_name": "LayoutModel",
     "state": {
      "_model_module": "@jupyter-widgets/base",
      "_model_module_version": "1.2.0",
      "_model_name": "LayoutModel",
      "_view_count": null,
      "_view_module": "@jupyter-widgets/base",
      "_view_module_version": "1.2.0",
      "_view_name": "LayoutView",
      "align_content": null,
      "align_items": null,
      "align_self": null,
      "border": null,
      "bottom": null,
      "display": null,
      "flex": null,
      "flex_flow": null,
      "grid_area": null,
      "grid_auto_columns": null,
      "grid_auto_flow": null,
      "grid_auto_rows": null,
      "grid_column": null,
      "grid_gap": null,
      "grid_row": null,
      "grid_template_areas": null,
      "grid_template_columns": null,
      "grid_template_rows": null,
      "height": null,
      "justify_content": null,
      "justify_items": null,
      "left": null,
      "margin": null,
      "max_height": null,
      "max_width": null,
      "min_height": null,
      "min_width": null,
      "object_fit": null,
      "object_position": null,
      "order": null,
      "overflow": null,
      "overflow_x": null,
      "overflow_y": null,
      "padding": null,
      "right": null,
      "top": null,
      "visibility": null,
      "width": null
     }
    },
    "fca1fb26d86c4e79bb6ba06b85b185e2": {
     "model_module": "@jupyter-widgets/base",
     "model_module_version": "1.2.0",
     "model_name": "LayoutModel",
     "state": {
      "_model_module": "@jupyter-widgets/base",
      "_model_module_version": "1.2.0",
      "_model_name": "LayoutModel",
      "_view_count": null,
      "_view_module": "@jupyter-widgets/base",
      "_view_module_version": "1.2.0",
      "_view_name": "LayoutView",
      "align_content": null,
      "align_items": null,
      "align_self": null,
      "border": null,
      "bottom": null,
      "display": null,
      "flex": null,
      "flex_flow": null,
      "grid_area": null,
      "grid_auto_columns": null,
      "grid_auto_flow": null,
      "grid_auto_rows": null,
      "grid_column": null,
      "grid_gap": null,
      "grid_row": null,
      "grid_template_areas": null,
      "grid_template_columns": null,
      "grid_template_rows": null,
      "height": null,
      "justify_content": null,
      "justify_items": null,
      "left": null,
      "margin": null,
      "max_height": null,
      "max_width": null,
      "min_height": null,
      "min_width": null,
      "object_fit": null,
      "object_position": null,
      "order": null,
      "overflow": null,
      "overflow_x": null,
      "overflow_y": null,
      "padding": null,
      "right": null,
      "top": null,
      "visibility": null,
      "width": null
     }
    },
    "fec43e89660a477b8fd2e0e6ab773775": {
     "model_module": "@jupyter-widgets/base",
     "model_module_version": "1.2.0",
     "model_name": "LayoutModel",
     "state": {
      "_model_module": "@jupyter-widgets/base",
      "_model_module_version": "1.2.0",
      "_model_name": "LayoutModel",
      "_view_count": null,
      "_view_module": "@jupyter-widgets/base",
      "_view_module_version": "1.2.0",
      "_view_name": "LayoutView",
      "align_content": null,
      "align_items": null,
      "align_self": null,
      "border": null,
      "bottom": null,
      "display": null,
      "flex": null,
      "flex_flow": null,
      "grid_area": null,
      "grid_auto_columns": null,
      "grid_auto_flow": null,
      "grid_auto_rows": null,
      "grid_column": null,
      "grid_gap": null,
      "grid_row": null,
      "grid_template_areas": null,
      "grid_template_columns": null,
      "grid_template_rows": null,
      "height": null,
      "justify_content": null,
      "justify_items": null,
      "left": null,
      "margin": null,
      "max_height": null,
      "max_width": null,
      "min_height": null,
      "min_width": null,
      "object_fit": null,
      "object_position": null,
      "order": null,
      "overflow": null,
      "overflow_x": null,
      "overflow_y": null,
      "padding": null,
      "right": null,
      "top": null,
      "visibility": null,
      "width": null
     }
    }
   }
  }
 },
 "nbformat": 4,
 "nbformat_minor": 4
}
