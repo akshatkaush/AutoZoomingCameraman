{
 "cells": [
  {
   "cell_type": "code",
   "execution_count": 1,
   "id": "f5ab115a-489a-44a5-9ee5-6b0a66e444c0",
   "metadata": {},
   "outputs": [],
   "source": [
    "import cv2\n",
    "# List to store clicked pixel coordinates\n",
    "clicked_points = []\n",
    "\n",
    "# Mouse callback function to capture clicks\n",
    "def click_event(event, x, y, flags, params):\n",
    "    if event == cv2.EVENT_LBUTTONDOWN:\n",
    "        clicked_points.append((x, y))\n",
    "        print(f\"Clicked at: {x}, {y}\")\n",
    "\n",
    "# Load the image (replace 'your_image.jpg' with your image path)\n",
    "image_path = (\"0000_480p.jpg\")  # Make sure to upload the image to the Colab environment\n",
    "img = cv2.imread(image_path)\n",
    "\n",
    "# Display the image and set up the mouse callback\n",
    "cv2.namedWindow(\"image\")\n",
    "cv2.imshow(\"image\",img)\n",
    "cv2.setMouseCallback('image', click_event)\n",
    "\n",
    "# Press any key to close the image window (this part is not interactive in Colab, so the image will auto-close)\n",
    "cv2.waitKey(0)\n",
    "cv2.destroyAllWindows()\n",
    "\n",
    "# Print the coordinates of the clicks\n",
    "print(\"Clicked points:\", clicked_points)"
   ]
  },
  {
   "cell_type": "code",
   "execution_count": 27,
   "id": "31906e85-5433-4529-961d-63f5e7da32b8",
   "metadata": {},
   "outputs": [
    {
     "name": "stdout",
     "output_type": "stream",
     "text": [
      "Clicked points have been saved to 'clicked_points.pkl'\n"
     ]
    }
   ],
   "source": [
    "import pickle\n",
    "with open('clicked_points.pkl', 'wb') as f:\n",
    "    pickle.dump(clicked_points, f)\n",
    "\n",
    "print(\"Clicked points have been saved to 'clicked_points.pkl'\")"
   ]
  }
 ],
 "metadata": {
  "kernelspec": {
   "display_name": "Python 3 (ipykernel)",
   "language": "python",
   "name": "python3"
  },
  "language_info": {
   "codemirror_mode": {
    "name": "ipython",
    "version": 3
   },
   "file_extension": ".py",
   "mimetype": "text/x-python",
   "name": "python",
   "nbconvert_exporter": "python",
   "pygments_lexer": "ipython3",
   "version": "3.12.4"
  }
 },
 "nbformat": 4,
 "nbformat_minor": 5
}
